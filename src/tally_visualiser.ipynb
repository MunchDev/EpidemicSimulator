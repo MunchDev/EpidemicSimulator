{
 "cells": [
  {
   "cell_type": "code",
   "execution_count": 1,
   "metadata": {},
   "outputs": [
    {
     "ename": "NameError",
     "evalue": "name 'is_valid_date' is not defined",
     "output_type": "error",
     "traceback": [
      "\u001b[0;31m---------------------------------------------------------------------------\u001b[0m",
      "\u001b[0;31mNameError\u001b[0m                                 Traceback (most recent call last)",
      "\u001b[0;32m<ipython-input-1-5b648d4032b4>\u001b[0m in \u001b[0;36m<module>\u001b[0;34m\u001b[0m\n\u001b[1;32m     35\u001b[0m \u001b[0;31m# ---------- CAUTION: DO NOT MODIFY ANY LINE BELOW -------------\u001b[0m\u001b[0;34m\u001b[0m\u001b[0;34m\u001b[0m\u001b[0;34m\u001b[0m\u001b[0m\n\u001b[1;32m     36\u001b[0m \u001b[0;32mfrom\u001b[0m \u001b[0mdata_miner\u001b[0m \u001b[0;32mimport\u001b[0m \u001b[0mcountry_tally_plot\u001b[0m\u001b[0;34m\u001b[0m\u001b[0;34m\u001b[0m\u001b[0m\n\u001b[0;32m---> 37\u001b[0;31m \u001b[0mcountry_tally_plot\u001b[0m\u001b[0;34m(\u001b[0m\u001b[0mcountry\u001b[0m\u001b[0;34m,\u001b[0m \u001b[0mdate\u001b[0m\u001b[0;34m,\u001b[0m \u001b[0mtimespan\u001b[0m\u001b[0;34m,\u001b[0m \u001b[0mscale\u001b[0m\u001b[0;34m,\u001b[0m \u001b[0mplot_type\u001b[0m\u001b[0;34m)\u001b[0m\u001b[0;34m\u001b[0m\u001b[0;34m\u001b[0m\u001b[0m\n\u001b[0m\u001b[1;32m     38\u001b[0m \u001b[0;31m# --------------------------------------------------------------\u001b[0m\u001b[0;34m\u001b[0m\u001b[0;34m\u001b[0m\u001b[0;34m\u001b[0m\u001b[0m\n",
      "\u001b[0;32m~/src/data_miner.py\u001b[0m in \u001b[0;36mcountry_tally_plot\u001b[0;34m(country, date, timespan, scale, plot_type)\u001b[0m\n\u001b[1;32m     29\u001b[0m         \u001b[0mprint\u001b[0m\u001b[0;34m(\u001b[0m\u001b[0;34m\"Invalid input\"\u001b[0m\u001b[0;34m)\u001b[0m\u001b[0;34m\u001b[0m\u001b[0;34m\u001b[0m\u001b[0m\n\u001b[1;32m     30\u001b[0m         \u001b[0;32mreturn\u001b[0m\u001b[0;34m\u001b[0m\u001b[0;34m\u001b[0m\u001b[0m\n\u001b[0;32m---> 31\u001b[0;31m     \u001b[0;32mif\u001b[0m \u001b[0;32mnot\u001b[0m \u001b[0mis_valid_date\u001b[0m\u001b[0;34m(\u001b[0m\u001b[0mdate\u001b[0m\u001b[0;34m)\u001b[0m\u001b[0;34m:\u001b[0m\u001b[0;34m\u001b[0m\u001b[0;34m\u001b[0m\u001b[0m\n\u001b[0m\u001b[1;32m     32\u001b[0m         \u001b[0mprint\u001b[0m\u001b[0;34m(\u001b[0m\u001b[0;34m\"Invalid date\"\u001b[0m\u001b[0;34m)\u001b[0m\u001b[0;34m\u001b[0m\u001b[0;34m\u001b[0m\u001b[0m\n\u001b[1;32m     33\u001b[0m         \u001b[0;32mreturn\u001b[0m\u001b[0;34m\u001b[0m\u001b[0;34m\u001b[0m\u001b[0m\n",
      "\u001b[0;31mNameError\u001b[0m: name 'is_valid_date' is not defined"
     ]
    }
   ],
   "source": [
    "# ----------------------------------------------------\n",
    "# Country Tally Plot\n",
    "# Generate a comprehensive set of plots to visualise\n",
    "# COVID-19 situation in a country.\n",
    "#\n",
    "# For more information, please go to:\n",
    "# https://github.com/MunchDev/EpidemicSimulator\n",
    "# ----------------------------------------------------\n",
    "\n",
    "# Country -- The country to be plotted\n",
    "#\n",
    "# For the full list of available countries, please go to:\n",
    "# https://github.com/MunchDev/EpidemicSimulator\n",
    "country = \"Singapore\"\n",
    "\n",
    "# Date -- The latest date to be plotted (in dd-mm-yyyy format)\n",
    "# Please note that there are delays between the real-time report\n",
    "# and this compiled report. If there is no report available\n",
    "# for today, please switch to the previous date.\n",
    "date = \"01-05-2020\"\n",
    "\n",
    "# Timespan -- The period of data plotted\n",
    "# Please choose a suitable timespan, so that the earliest\n",
    "# date is no earlier than 01-03-2020.\n",
    "timespan = 40\n",
    "\n",
    "# Scale -- Set to 'linear' for linear scale or 'log' for logarithmic scale\n",
    "scale = \"log\"\n",
    "\n",
    "# Plot type -- Show plot of confirmed cases (c), deaths (d), recovered cases (r),\n",
    "# active cases (a) or any combination of these.\n",
    "plot_type = \"cdra\"\n",
    "\n",
    "# --------------------------------------------------------------\n",
    "# ---------- CAUTION: DO NOT MODIFY ANY LINE BELOW -------------\n",
    "from data_miner import country_tally_plot                     \n",
    "country_tally_plot(country, date, timespan, scale, plot_type)\n",
    "# --------------------------------------------------------------"
   ]
  },
  {
   "cell_type": "code",
   "execution_count": 2,
   "metadata": {},
   "outputs": [
    {
     "ename": "UnboundLocalError",
     "evalue": "local variable 'country' referenced before assignment",
     "output_type": "error",
     "traceback": [
      "\u001b[0;31m---------------------------------------------------------------------------\u001b[0m",
      "\u001b[0;31mUnboundLocalError\u001b[0m                         Traceback (most recent call last)",
      "\u001b[0;32m<ipython-input-2-cf65d17e2dd0>\u001b[0m in \u001b[0;36m<module>\u001b[0;34m\u001b[0m\n\u001b[1;32m     48\u001b[0m \u001b[0;31m# ------------- CAUTION: DO NOT MODIFY ANY LINE BELOW ----------------\u001b[0m\u001b[0;34m\u001b[0m\u001b[0;34m\u001b[0m\u001b[0;34m\u001b[0m\u001b[0m\n\u001b[1;32m     49\u001b[0m \u001b[0;32mfrom\u001b[0m \u001b[0mdata_miner\u001b[0m \u001b[0;32mimport\u001b[0m \u001b[0mworld_tally_plot\u001b[0m\u001b[0;34m\u001b[0m\u001b[0;34m\u001b[0m\u001b[0m\n\u001b[0;32m---> 50\u001b[0;31m \u001b[0mworld_tally_plot\u001b[0m\u001b[0;34m(\u001b[0m\u001b[0mcountries\u001b[0m\u001b[0;34m,\u001b[0m \u001b[0mcolours\u001b[0m\u001b[0;34m,\u001b[0m \u001b[0mdate\u001b[0m\u001b[0;34m,\u001b[0m \u001b[0mtimespan\u001b[0m\u001b[0;34m,\u001b[0m \u001b[0mscale\u001b[0m\u001b[0;34m,\u001b[0m \u001b[0mplot_type\u001b[0m\u001b[0;34m)\u001b[0m\u001b[0;34m\u001b[0m\u001b[0;34m\u001b[0m\u001b[0m\n\u001b[0m\u001b[1;32m     51\u001b[0m \u001b[0;31m# --------------------------------------------------------------------\u001b[0m\u001b[0;34m\u001b[0m\u001b[0;34m\u001b[0m\u001b[0;34m\u001b[0m\u001b[0m\n",
      "\u001b[0;32m~/src/data_miner.py\u001b[0m in \u001b[0;36mworld_tally_plot\u001b[0;34m(countries, colours, date, timespan, scale, plot_type)\u001b[0m\n\u001b[1;32m     83\u001b[0m \u001b[0;34m\u001b[0m\u001b[0m\n\u001b[1;32m     84\u001b[0m \u001b[0;32mdef\u001b[0m \u001b[0mworld_tally_plot\u001b[0m\u001b[0;34m(\u001b[0m\u001b[0mcountries\u001b[0m\u001b[0;34m,\u001b[0m \u001b[0mcolours\u001b[0m\u001b[0;34m,\u001b[0m \u001b[0mdate\u001b[0m\u001b[0;34m,\u001b[0m \u001b[0mtimespan\u001b[0m\u001b[0;34m,\u001b[0m \u001b[0mscale\u001b[0m\u001b[0;34m,\u001b[0m \u001b[0mplot_type\u001b[0m\u001b[0;34m)\u001b[0m\u001b[0;34m:\u001b[0m\u001b[0;34m\u001b[0m\u001b[0;34m\u001b[0m\u001b[0m\n\u001b[0;32m---> 85\u001b[0;31m     \u001b[0;32mif\u001b[0m \u001b[0mtype\u001b[0m\u001b[0;34m(\u001b[0m\u001b[0mcountry\u001b[0m\u001b[0;34m)\u001b[0m \u001b[0;34m!=\u001b[0m \u001b[0mstr\u001b[0m \u001b[0;32mor\u001b[0m \u001b[0mtype\u001b[0m\u001b[0;34m(\u001b[0m\u001b[0mdate\u001b[0m\u001b[0;34m)\u001b[0m \u001b[0;34m!=\u001b[0m \u001b[0mstr\u001b[0m \u001b[0;32mor\u001b[0m \u001b[0mtype\u001b[0m\u001b[0;34m(\u001b[0m\u001b[0mtimespan\u001b[0m\u001b[0;34m)\u001b[0m \u001b[0;34m!=\u001b[0m \u001b[0mint\u001b[0m\u001b[0;34m:\u001b[0m\u001b[0;34m\u001b[0m\u001b[0;34m\u001b[0m\u001b[0m\n\u001b[0m\u001b[1;32m     86\u001b[0m         \u001b[0mprint\u001b[0m\u001b[0;34m(\u001b[0m\u001b[0;34m\"Invalid input type\"\u001b[0m\u001b[0;34m)\u001b[0m\u001b[0;34m\u001b[0m\u001b[0;34m\u001b[0m\u001b[0m\n\u001b[1;32m     87\u001b[0m         \u001b[0;32mreturn\u001b[0m\u001b[0;34m\u001b[0m\u001b[0;34m\u001b[0m\u001b[0m\n",
      "\u001b[0;31mUnboundLocalError\u001b[0m: local variable 'country' referenced before assignment"
     ]
    }
   ],
   "source": [
    "# ------------------------------------------------------\n",
    "# World Tally Plot\n",
    "# Generate a comprehensive set of plots to visualise\n",
    "# COVID-19 situation of multiple countries in the world.\n",
    "# This is basically an extension of the above, but for\n",
    "# confirmed cases only.\n",
    "#\n",
    "# For more information, please go to:\n",
    "# https://github.com/MunchDev/EpidemicSimulator\n",
    "# ------------------------------------------------------\n",
    "\n",
    "# Countries -- The countries to be plotted\n",
    "#\n",
    "# For the full list of available countries, please go to:\n",
    "# https://github.com/MunchDev/EpidemicSimulator\n",
    "countries = [\"Singapore\", \"US\", \"Vietnam\"]\n",
    "\n",
    "# Colours -- The colours to be used for plots\n",
    "# Please note that the number of colours must be greater than\n",
    "# or equal to the number of countries above, otherwise, not\n",
    "# all countries will be shown.\n",
    "# Supported colours (use letters in parentheses or full name):\n",
    "# - (b)lue, (g)reen, (r)ed, (c)yan, (y)ellow, (m)agenta, (w)hite, blac(k)\n",
    "# - RGB colours in the form of hexstring (e.g \"#ff0000\")\n",
    "colours = [\"b\", \"green\", \"#ff0000\"]\n",
    "\n",
    "# Date -- The latest date to be plotted (in dd-mm-yyyy format)\n",
    "# Please note that there are delays between the real-time report\n",
    "# and this compiled report. If there is no report available\n",
    "# for today, please switch to the previous date.\n",
    "date = \"01-05-2020\"\n",
    "\n",
    "# Timespan -- The period of data plotted\n",
    "# Please choose a suitable timespan, so that the earliest\n",
    "# date is no earlier than 01-03-2020.\n",
    "timespan = 40\n",
    "\n",
    "# Scale -- Set to 'linear' for linear scale or 'log' for logarithmic scale\n",
    "scale = \"log\"\n",
    "\n",
    "# Plot type -- Show plot of confirmed cases (c), deaths (d),\n",
    "# recovered cases (r), active cases (a)\n",
    "# If none is given, default is (c)onfirmed cases. If multiple\n",
    "# is given, the first valid option will be chosen.\n",
    "plot_type = \"c\"\n",
    "\n",
    "# --------------------------------------------------------------------\n",
    "# ------------- CAUTION: DO NOT MODIFY ANY LINE BELOW ----------------\n",
    "from data_miner import world_tally_plot\n",
    "world_tally_plot(countries, colours, date, timespan, scale, plot_type)\n",
    "# --------------------------------------------------------------------"
   ]
  }
 ],
 "metadata": {
  "kernelspec": {
   "display_name": "Python 3",
   "language": "python",
   "name": "python3"
  },
  "language_info": {
   "codemirror_mode": {
    "name": "ipython",
    "version": 3
   },
   "file_extension": ".py",
   "mimetype": "text/x-python",
   "name": "python",
   "nbconvert_exporter": "python",
   "pygments_lexer": "ipython3",
   "version": "3.7.6"
  }
 },
 "nbformat": 4,
 "nbformat_minor": 4
}
