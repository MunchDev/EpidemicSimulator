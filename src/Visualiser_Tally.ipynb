{
 "cells": [
  {
   "cell_type": "code",
   "execution_count": 1,
   "metadata": {},
   "outputs": [],
   "source": [
    "from data_miner import country_tally_plot\n",
    "# Timespan -- The period of data plotted\n",
    "timespan = 40\n",
    "\n",
    "# Country -- The country to be plotted\n",
    "country = \"Singapore\"\n",
    "\n",
    "# Scale -- Set to 'linear' for linear scale or 'log' for logarithmic scale\n",
    "scale = \"log\"\n",
    "\n",
    "# Date -- The latest date to be plotted (in dd-mm-yyyy format)\n",
    "date = \"01-05-2020\"\n",
    "\n",
    "# Plot type -- Show plot of confirmed cases (c), deaths (d), recovered cases (r),\n",
    "# active cases (a) or any combination of these.\n",
    "plot_type = \"cdra\"\n",
    "\n",
    "# -------------------------------\n",
    "# ----- DO NOT MODIFY BELOW -----\n",
    "# -------------------------------\n",
    "from data_miner import country_tally_plot\n",
    "country_tally_plot(country, date, timespan, scale, plot_type)"
   ]
  }
 ],
 "metadata": {
  "kernelspec": {
   "display_name": "Python 3",
   "language": "python",
   "name": "python3"
  },
  "language_info": {
   "codemirror_mode": {
    "name": "ipython",
    "version": 3
   },
   "file_extension": ".py",
   "mimetype": "text/x-python",
   "name": "python",
   "nbconvert_exporter": "python",
   "pygments_lexer": "ipython3",
   "version": "3.7.6"
  }
 },
 "nbformat": 4,
 "nbformat_minor": 4
}
